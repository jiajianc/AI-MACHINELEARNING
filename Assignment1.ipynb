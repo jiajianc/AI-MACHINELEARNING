{
  "nbformat": 4,
  "nbformat_minor": 0,
  "metadata": {
    "colab": {
      "name": "Assignment1.ipynb",
      "provenance": [],
      "collapsed_sections": [],
      "toc_visible": true,
      "mount_file_id": "1NRWdXt3l3jK7I4ppUVfpc1czLyDromBm",
      "authorship_tag": "ABX9TyNLXNmu86HCdyh2G0u27mlV",
      "include_colab_link": true
    },
    "kernelspec": {
      "name": "python3",
      "display_name": "Python 3"
    }
  },
  "cells": [
    {
      "cell_type": "markdown",
      "metadata": {
        "id": "view-in-github",
        "colab_type": "text"
      },
      "source": [
        "<a href=\"https://colab.research.google.com/github/jiajianc/AI-MACHINELEARNING/blob/main/Assignment1.ipynb\" target=\"_parent\"><img src=\"https://colab.research.google.com/assets/colab-badge.svg\" alt=\"Open In Colab\"/></a>"
      ]
    },
    {
      "cell_type": "code",
      "metadata": {
        "id": "av1OAkRPWk8i"
      },
      "source": [
        ""
      ],
      "execution_count": null,
      "outputs": []
    },
    {
      "cell_type": "markdown",
      "metadata": {
        "id": "yTfUyFzUXSMQ"
      },
      "source": [
        "**The dataset contains the vehicle crashes from 2018 to 2020 in NewYork State. I want to use this dataset to briefly form a culster and analyze the feature of car crashes in Newyork State. [SOURCE](https://catalog.data.gov/dataset/motor-vehicle-crashes-case-information-three-year-window)**"
      ]
    },
    {
      "cell_type": "markdown",
      "metadata": {
        "id": "YwT9YaD_GW0R"
      },
      "source": [
        ""
      ]
    },
    {
      "cell_type": "code",
      "metadata": {
        "id": "7xmy37d1XeDD"
      },
      "source": [
        "import pandas as pd\n"
      ],
      "execution_count": 1,
      "outputs": []
    },
    {
      "cell_type": "code",
      "metadata": {
        "colab": {
          "base_uri": "https://localhost:8080/"
        },
        "id": "eWijyxjRXjMq",
        "outputId": "7a58c13d-847c-4fbc-94b0-6d50716c464e"
      },
      "source": [
        "data = pd.read_csv(\"/content/drive/MyDrive/Colab Notebooks/Motor_Vehicle_Crashes_-_Vehicle_Information__Three_Year_Window.csv\")\n",
        "\n",
        "data.shape\n",
        "data.info()"
      ],
      "execution_count": 2,
      "outputs": [
        {
          "output_type": "stream",
          "text": [
            "<class 'pandas.core.frame.DataFrame'>\n",
            "RangeIndex: 1648853 entries, 0 to 1648852\n",
            "Data columns (total 19 columns):\n",
            " #   Column                             Non-Null Count    Dtype  \n",
            "---  ------                             --------------    -----  \n",
            " 0   Year                               1648853 non-null  int64  \n",
            " 1   Case Vehicle ID                    1648853 non-null  int64  \n",
            " 2   Vehicle Body Type                  1648853 non-null  object \n",
            " 3   Registration Class                 1648853 non-null  object \n",
            " 4   Action Prior to Accident           1648853 non-null  object \n",
            " 5   Type / Axles of Truck or Bus       1648853 non-null  object \n",
            " 6   Direction of Travel                1648853 non-null  object \n",
            " 7   Fuel Type                          1648853 non-null  object \n",
            " 8   Vehicle Year                       1376105 non-null  float64\n",
            " 9   State of Registration              1524749 non-null  object \n",
            " 10  Number of Occupants                1517540 non-null  float64\n",
            " 11  Engine Cylinders                   1297963 non-null  float64\n",
            " 12  Vehicle Make                       1377587 non-null  object \n",
            " 13  Contributing Factor 1              1648853 non-null  object \n",
            " 14  Contributing Factor 1 Description  1648853 non-null  object \n",
            " 15  Contributing Factor 2              1648853 non-null  object \n",
            " 16  Contributing Factor 2 Description  1648853 non-null  object \n",
            " 17  Event Type                         1618642 non-null  object \n",
            " 18  Partial VIN                        1345784 non-null  object \n",
            "dtypes: float64(3), int64(2), object(14)\n",
            "memory usage: 239.0+ MB\n"
          ],
          "name": "stdout"
        }
      ]
    },
    {
      "cell_type": "code",
      "metadata": {
        "colab": {
          "base_uri": "https://localhost:8080/",
          "height": 411
        },
        "id": "eMYVUXQjXum8",
        "outputId": "e711219c-812d-4d2a-c66f-02136a408b35"
      },
      "source": [
        "col = [1, 18]\n",
        "data.head(5)"
      ],
      "execution_count": 3,
      "outputs": [
        {
          "output_type": "execute_result",
          "data": {
            "text/html": [
              "<div>\n",
              "<style scoped>\n",
              "    .dataframe tbody tr th:only-of-type {\n",
              "        vertical-align: middle;\n",
              "    }\n",
              "\n",
              "    .dataframe tbody tr th {\n",
              "        vertical-align: top;\n",
              "    }\n",
              "\n",
              "    .dataframe thead th {\n",
              "        text-align: right;\n",
              "    }\n",
              "</style>\n",
              "<table border=\"1\" class=\"dataframe\">\n",
              "  <thead>\n",
              "    <tr style=\"text-align: right;\">\n",
              "      <th></th>\n",
              "      <th>Year</th>\n",
              "      <th>Case Vehicle ID</th>\n",
              "      <th>Vehicle Body Type</th>\n",
              "      <th>Registration Class</th>\n",
              "      <th>Action Prior to Accident</th>\n",
              "      <th>Type / Axles of Truck or Bus</th>\n",
              "      <th>Direction of Travel</th>\n",
              "      <th>Fuel Type</th>\n",
              "      <th>Vehicle Year</th>\n",
              "      <th>State of Registration</th>\n",
              "      <th>Number of Occupants</th>\n",
              "      <th>Engine Cylinders</th>\n",
              "      <th>Vehicle Make</th>\n",
              "      <th>Contributing Factor 1</th>\n",
              "      <th>Contributing Factor 1 Description</th>\n",
              "      <th>Contributing Factor 2</th>\n",
              "      <th>Contributing Factor 2 Description</th>\n",
              "      <th>Event Type</th>\n",
              "      <th>Partial VIN</th>\n",
              "    </tr>\n",
              "  </thead>\n",
              "  <tbody>\n",
              "    <tr>\n",
              "      <th>0</th>\n",
              "      <td>2018</td>\n",
              "      <td>15232120</td>\n",
              "      <td>VAN TRUCK</td>\n",
              "      <td>AGRICULTURAL TRUCK</td>\n",
              "      <td>Parked</td>\n",
              "      <td>Not Entered</td>\n",
              "      <td>North</td>\n",
              "      <td>Gas</td>\n",
              "      <td>2015.0</td>\n",
              "      <td>NY</td>\n",
              "      <td>0.0</td>\n",
              "      <td>4.0</td>\n",
              "      <td>NISSA</td>\n",
              "      <td>HUMAN</td>\n",
              "      <td>Not Entered</td>\n",
              "      <td>HUMAN</td>\n",
              "      <td>Not Entered</td>\n",
              "      <td>Not Entered</td>\n",
              "      <td>3N6CM0KN2FK713460</td>\n",
              "    </tr>\n",
              "    <tr>\n",
              "      <th>1</th>\n",
              "      <td>2018</td>\n",
              "      <td>15232535</td>\n",
              "      <td>SUBURBAN</td>\n",
              "      <td>PASSENGER OR SUBURBAN</td>\n",
              "      <td>Making U Turn</td>\n",
              "      <td>Not Entered</td>\n",
              "      <td>South</td>\n",
              "      <td>Gas</td>\n",
              "      <td>2015.0</td>\n",
              "      <td>NY</td>\n",
              "      <td>1.0</td>\n",
              "      <td>6.0</td>\n",
              "      <td>HONDA</td>\n",
              "      <td>HUMAN</td>\n",
              "      <td>Not Entered</td>\n",
              "      <td>HUMAN</td>\n",
              "      <td>Unknown</td>\n",
              "      <td>Not Entered</td>\n",
              "      <td>5J6TF2H55FL001556</td>\n",
              "    </tr>\n",
              "    <tr>\n",
              "      <th>2</th>\n",
              "      <td>2018</td>\n",
              "      <td>15232536</td>\n",
              "      <td>SEDAN</td>\n",
              "      <td>Not Entered</td>\n",
              "      <td>Going Straight Ahead</td>\n",
              "      <td>Not Entered</td>\n",
              "      <td>North</td>\n",
              "      <td>Not Entered</td>\n",
              "      <td>NaN</td>\n",
              "      <td>PA</td>\n",
              "      <td>1.0</td>\n",
              "      <td>NaN</td>\n",
              "      <td>NaN</td>\n",
              "      <td>HUMAN</td>\n",
              "      <td>Not Entered</td>\n",
              "      <td>HUMAN</td>\n",
              "      <td>Unknown</td>\n",
              "      <td>Not Entered</td>\n",
              "      <td>NaN</td>\n",
              "    </tr>\n",
              "    <tr>\n",
              "      <th>3</th>\n",
              "      <td>2018</td>\n",
              "      <td>15232557</td>\n",
              "      <td>4 DOOR SEDAN</td>\n",
              "      <td>PASSENGER OR SUBURBAN</td>\n",
              "      <td>Parked</td>\n",
              "      <td>Not Entered</td>\n",
              "      <td>South</td>\n",
              "      <td>Gas</td>\n",
              "      <td>2013.0</td>\n",
              "      <td>NY</td>\n",
              "      <td>5.0</td>\n",
              "      <td>4.0</td>\n",
              "      <td>NISSA</td>\n",
              "      <td>HUMAN</td>\n",
              "      <td>Passenger Distraction</td>\n",
              "      <td>VEHICLE</td>\n",
              "      <td>Other*</td>\n",
              "      <td>Not Entered</td>\n",
              "      <td>1N4AL3AP8DC229156</td>\n",
              "    </tr>\n",
              "    <tr>\n",
              "      <th>4</th>\n",
              "      <td>2018</td>\n",
              "      <td>15232556</td>\n",
              "      <td>SUBURBAN</td>\n",
              "      <td>PASSENGER OR SUBURBAN</td>\n",
              "      <td>Going Straight Ahead</td>\n",
              "      <td>Not Entered</td>\n",
              "      <td>South</td>\n",
              "      <td>Gas</td>\n",
              "      <td>2009.0</td>\n",
              "      <td>NY</td>\n",
              "      <td>2.0</td>\n",
              "      <td>8.0</td>\n",
              "      <td>CADIL</td>\n",
              "      <td>HUMAN</td>\n",
              "      <td>Not Applicable</td>\n",
              "      <td>HUMAN</td>\n",
              "      <td>Not Applicable</td>\n",
              "      <td>Not Entered</td>\n",
              "      <td>3GYFK22209G213337</td>\n",
              "    </tr>\n",
              "  </tbody>\n",
              "</table>\n",
              "</div>"
            ],
            "text/plain": [
              "   Year  Case Vehicle ID  ...   Event Type        Partial VIN\n",
              "0  2018         15232120  ...  Not Entered  3N6CM0KN2FK713460\n",
              "1  2018         15232535  ...  Not Entered  5J6TF2H55FL001556\n",
              "2  2018         15232536  ...  Not Entered                NaN\n",
              "3  2018         15232557  ...  Not Entered  1N4AL3AP8DC229156\n",
              "4  2018         15232556  ...  Not Entered  3GYFK22209G213337\n",
              "\n",
              "[5 rows x 19 columns]"
            ]
          },
          "metadata": {
            "tags": []
          },
          "execution_count": 3
        }
      ]
    },
    {
      "cell_type": "code",
      "metadata": {
        "colab": {
          "base_uri": "https://localhost:8080/",
          "height": 297
        },
        "id": "XaDKey9qYpGi",
        "outputId": "d4b955e7-4de5-4c88-8506-b4c4d9f7c2a3"
      },
      "source": [
        "data.describe()"
      ],
      "execution_count": 4,
      "outputs": [
        {
          "output_type": "execute_result",
          "data": {
            "text/html": [
              "<div>\n",
              "<style scoped>\n",
              "    .dataframe tbody tr th:only-of-type {\n",
              "        vertical-align: middle;\n",
              "    }\n",
              "\n",
              "    .dataframe tbody tr th {\n",
              "        vertical-align: top;\n",
              "    }\n",
              "\n",
              "    .dataframe thead th {\n",
              "        text-align: right;\n",
              "    }\n",
              "</style>\n",
              "<table border=\"1\" class=\"dataframe\">\n",
              "  <thead>\n",
              "    <tr style=\"text-align: right;\">\n",
              "      <th></th>\n",
              "      <th>Year</th>\n",
              "      <th>Case Vehicle ID</th>\n",
              "      <th>Vehicle Year</th>\n",
              "      <th>Number of Occupants</th>\n",
              "      <th>Engine Cylinders</th>\n",
              "    </tr>\n",
              "  </thead>\n",
              "  <tbody>\n",
              "    <tr>\n",
              "      <th>count</th>\n",
              "      <td>1.648853e+06</td>\n",
              "      <td>1.648853e+06</td>\n",
              "      <td>1.376105e+06</td>\n",
              "      <td>1.517540e+06</td>\n",
              "      <td>1.297963e+06</td>\n",
              "    </tr>\n",
              "    <tr>\n",
              "      <th>mean</th>\n",
              "      <td>2.018507e+03</td>\n",
              "      <td>1.638410e+07</td>\n",
              "      <td>2.011330e+03</td>\n",
              "      <td>1.265203e+00</td>\n",
              "      <td>5.182829e+00</td>\n",
              "    </tr>\n",
              "    <tr>\n",
              "      <th>std</th>\n",
              "      <td>4.999511e-01</td>\n",
              "      <td>6.321774e+05</td>\n",
              "      <td>5.867485e+00</td>\n",
              "      <td>1.470838e+00</td>\n",
              "      <td>1.439809e+00</td>\n",
              "    </tr>\n",
              "    <tr>\n",
              "      <th>min</th>\n",
              "      <td>2.018000e+03</td>\n",
              "      <td>1.437865e+07</td>\n",
              "      <td>1.900000e+03</td>\n",
              "      <td>0.000000e+00</td>\n",
              "      <td>0.000000e+00</td>\n",
              "    </tr>\n",
              "    <tr>\n",
              "      <th>25%</th>\n",
              "      <td>2.018000e+03</td>\n",
              "      <td>1.584625e+07</td>\n",
              "      <td>2.007000e+03</td>\n",
              "      <td>1.000000e+00</td>\n",
              "      <td>4.000000e+00</td>\n",
              "    </tr>\n",
              "    <tr>\n",
              "      <th>50%</th>\n",
              "      <td>2.019000e+03</td>\n",
              "      <td>1.638820e+07</td>\n",
              "      <td>2.013000e+03</td>\n",
              "      <td>1.000000e+00</td>\n",
              "      <td>4.000000e+00</td>\n",
              "    </tr>\n",
              "    <tr>\n",
              "      <th>75%</th>\n",
              "      <td>2.019000e+03</td>\n",
              "      <td>1.692554e+07</td>\n",
              "      <td>2.016000e+03</td>\n",
              "      <td>1.000000e+00</td>\n",
              "      <td>6.000000e+00</td>\n",
              "    </tr>\n",
              "    <tr>\n",
              "      <th>max</th>\n",
              "      <td>2.019000e+03</td>\n",
              "      <td>1.786289e+07</td>\n",
              "      <td>2.021000e+03</td>\n",
              "      <td>6.870000e+02</td>\n",
              "      <td>1.600000e+01</td>\n",
              "    </tr>\n",
              "  </tbody>\n",
              "</table>\n",
              "</div>"
            ],
            "text/plain": [
              "               Year  Case Vehicle ID  ...  Number of Occupants  Engine Cylinders\n",
              "count  1.648853e+06     1.648853e+06  ...         1.517540e+06      1.297963e+06\n",
              "mean   2.018507e+03     1.638410e+07  ...         1.265203e+00      5.182829e+00\n",
              "std    4.999511e-01     6.321774e+05  ...         1.470838e+00      1.439809e+00\n",
              "min    2.018000e+03     1.437865e+07  ...         0.000000e+00      0.000000e+00\n",
              "25%    2.018000e+03     1.584625e+07  ...         1.000000e+00      4.000000e+00\n",
              "50%    2.019000e+03     1.638820e+07  ...         1.000000e+00      4.000000e+00\n",
              "75%    2.019000e+03     1.692554e+07  ...         1.000000e+00      6.000000e+00\n",
              "max    2.019000e+03     1.786289e+07  ...         6.870000e+02      1.600000e+01\n",
              "\n",
              "[8 rows x 5 columns]"
            ]
          },
          "metadata": {
            "tags": []
          },
          "execution_count": 4
        }
      ]
    },
    {
      "cell_type": "code",
      "metadata": {
        "id": "xxYB7WE4Zg5P",
        "colab": {
          "base_uri": "https://localhost:8080/"
        },
        "outputId": "a8278527-dc49-49b7-b8ca-46984d3de6f9"
      },
      "source": [
        "new_data = data.drop(data.columns[[1,18]],axis=1)\n",
        "# delete the columns  Vehicle ID and Vin number\n",
        "new_data.info()"
      ],
      "execution_count": 5,
      "outputs": [
        {
          "output_type": "stream",
          "text": [
            "<class 'pandas.core.frame.DataFrame'>\n",
            "RangeIndex: 1648853 entries, 0 to 1648852\n",
            "Data columns (total 17 columns):\n",
            " #   Column                             Non-Null Count    Dtype  \n",
            "---  ------                             --------------    -----  \n",
            " 0   Year                               1648853 non-null  int64  \n",
            " 1   Vehicle Body Type                  1648853 non-null  object \n",
            " 2   Registration Class                 1648853 non-null  object \n",
            " 3   Action Prior to Accident           1648853 non-null  object \n",
            " 4   Type / Axles of Truck or Bus       1648853 non-null  object \n",
            " 5   Direction of Travel                1648853 non-null  object \n",
            " 6   Fuel Type                          1648853 non-null  object \n",
            " 7   Vehicle Year                       1376105 non-null  float64\n",
            " 8   State of Registration              1524749 non-null  object \n",
            " 9   Number of Occupants                1517540 non-null  float64\n",
            " 10  Engine Cylinders                   1297963 non-null  float64\n",
            " 11  Vehicle Make                       1377587 non-null  object \n",
            " 12  Contributing Factor 1              1648853 non-null  object \n",
            " 13  Contributing Factor 1 Description  1648853 non-null  object \n",
            " 14  Contributing Factor 2              1648853 non-null  object \n",
            " 15  Contributing Factor 2 Description  1648853 non-null  object \n",
            " 16  Event Type                         1618642 non-null  object \n",
            "dtypes: float64(3), int64(1), object(13)\n",
            "memory usage: 213.9+ MB\n"
          ],
          "name": "stdout"
        }
      ]
    },
    {
      "cell_type": "code",
      "metadata": {
        "colab": {
          "base_uri": "https://localhost:8080/"
        },
        "id": "swssVEEeH7LO",
        "outputId": "0dab87b4-7089-4e62-a328-ef8bbd120c10"
      },
      "source": [
        "new_data = new_data.dropna()\n",
        "new_data.info()"
      ],
      "execution_count": 6,
      "outputs": [
        {
          "output_type": "stream",
          "text": [
            "<class 'pandas.core.frame.DataFrame'>\n",
            "Int64Index: 1252650 entries, 0 to 1648852\n",
            "Data columns (total 17 columns):\n",
            " #   Column                             Non-Null Count    Dtype  \n",
            "---  ------                             --------------    -----  \n",
            " 0   Year                               1252650 non-null  int64  \n",
            " 1   Vehicle Body Type                  1252650 non-null  object \n",
            " 2   Registration Class                 1252650 non-null  object \n",
            " 3   Action Prior to Accident           1252650 non-null  object \n",
            " 4   Type / Axles of Truck or Bus       1252650 non-null  object \n",
            " 5   Direction of Travel                1252650 non-null  object \n",
            " 6   Fuel Type                          1252650 non-null  object \n",
            " 7   Vehicle Year                       1252650 non-null  float64\n",
            " 8   State of Registration              1252650 non-null  object \n",
            " 9   Number of Occupants                1252650 non-null  float64\n",
            " 10  Engine Cylinders                   1252650 non-null  float64\n",
            " 11  Vehicle Make                       1252650 non-null  object \n",
            " 12  Contributing Factor 1              1252650 non-null  object \n",
            " 13  Contributing Factor 1 Description  1252650 non-null  object \n",
            " 14  Contributing Factor 2              1252650 non-null  object \n",
            " 15  Contributing Factor 2 Description  1252650 non-null  object \n",
            " 16  Event Type                         1252650 non-null  object \n",
            "dtypes: float64(3), int64(1), object(13)\n",
            "memory usage: 172.0+ MB\n"
          ],
          "name": "stdout"
        }
      ]
    },
    {
      "cell_type": "code",
      "metadata": {
        "colab": {
          "base_uri": "https://localhost:8080/",
          "height": 668
        },
        "id": "tM3LE65cMIDq",
        "outputId": "5c4379d0-412e-4466-e51d-f0af12cc3933"
      },
      "source": [
        "new_data.head(10)"
      ],
      "execution_count": 7,
      "outputs": [
        {
          "output_type": "execute_result",
          "data": {
            "text/html": [
              "<div>\n",
              "<style scoped>\n",
              "    .dataframe tbody tr th:only-of-type {\n",
              "        vertical-align: middle;\n",
              "    }\n",
              "\n",
              "    .dataframe tbody tr th {\n",
              "        vertical-align: top;\n",
              "    }\n",
              "\n",
              "    .dataframe thead th {\n",
              "        text-align: right;\n",
              "    }\n",
              "</style>\n",
              "<table border=\"1\" class=\"dataframe\">\n",
              "  <thead>\n",
              "    <tr style=\"text-align: right;\">\n",
              "      <th></th>\n",
              "      <th>Year</th>\n",
              "      <th>Vehicle Body Type</th>\n",
              "      <th>Registration Class</th>\n",
              "      <th>Action Prior to Accident</th>\n",
              "      <th>Type / Axles of Truck or Bus</th>\n",
              "      <th>Direction of Travel</th>\n",
              "      <th>Fuel Type</th>\n",
              "      <th>Vehicle Year</th>\n",
              "      <th>State of Registration</th>\n",
              "      <th>Number of Occupants</th>\n",
              "      <th>Engine Cylinders</th>\n",
              "      <th>Vehicle Make</th>\n",
              "      <th>Contributing Factor 1</th>\n",
              "      <th>Contributing Factor 1 Description</th>\n",
              "      <th>Contributing Factor 2</th>\n",
              "      <th>Contributing Factor 2 Description</th>\n",
              "      <th>Event Type</th>\n",
              "    </tr>\n",
              "  </thead>\n",
              "  <tbody>\n",
              "    <tr>\n",
              "      <th>0</th>\n",
              "      <td>2018</td>\n",
              "      <td>VAN TRUCK</td>\n",
              "      <td>AGRICULTURAL TRUCK</td>\n",
              "      <td>Parked</td>\n",
              "      <td>Not Entered</td>\n",
              "      <td>North</td>\n",
              "      <td>Gas</td>\n",
              "      <td>2015.0</td>\n",
              "      <td>NY</td>\n",
              "      <td>0.0</td>\n",
              "      <td>4.0</td>\n",
              "      <td>NISSA</td>\n",
              "      <td>HUMAN</td>\n",
              "      <td>Not Entered</td>\n",
              "      <td>HUMAN</td>\n",
              "      <td>Not Entered</td>\n",
              "      <td>Not Entered</td>\n",
              "    </tr>\n",
              "    <tr>\n",
              "      <th>1</th>\n",
              "      <td>2018</td>\n",
              "      <td>SUBURBAN</td>\n",
              "      <td>PASSENGER OR SUBURBAN</td>\n",
              "      <td>Making U Turn</td>\n",
              "      <td>Not Entered</td>\n",
              "      <td>South</td>\n",
              "      <td>Gas</td>\n",
              "      <td>2015.0</td>\n",
              "      <td>NY</td>\n",
              "      <td>1.0</td>\n",
              "      <td>6.0</td>\n",
              "      <td>HONDA</td>\n",
              "      <td>HUMAN</td>\n",
              "      <td>Not Entered</td>\n",
              "      <td>HUMAN</td>\n",
              "      <td>Unknown</td>\n",
              "      <td>Not Entered</td>\n",
              "    </tr>\n",
              "    <tr>\n",
              "      <th>3</th>\n",
              "      <td>2018</td>\n",
              "      <td>4 DOOR SEDAN</td>\n",
              "      <td>PASSENGER OR SUBURBAN</td>\n",
              "      <td>Parked</td>\n",
              "      <td>Not Entered</td>\n",
              "      <td>South</td>\n",
              "      <td>Gas</td>\n",
              "      <td>2013.0</td>\n",
              "      <td>NY</td>\n",
              "      <td>5.0</td>\n",
              "      <td>4.0</td>\n",
              "      <td>NISSA</td>\n",
              "      <td>HUMAN</td>\n",
              "      <td>Passenger Distraction</td>\n",
              "      <td>VEHICLE</td>\n",
              "      <td>Other*</td>\n",
              "      <td>Not Entered</td>\n",
              "    </tr>\n",
              "    <tr>\n",
              "      <th>4</th>\n",
              "      <td>2018</td>\n",
              "      <td>SUBURBAN</td>\n",
              "      <td>PASSENGER OR SUBURBAN</td>\n",
              "      <td>Going Straight Ahead</td>\n",
              "      <td>Not Entered</td>\n",
              "      <td>South</td>\n",
              "      <td>Gas</td>\n",
              "      <td>2009.0</td>\n",
              "      <td>NY</td>\n",
              "      <td>2.0</td>\n",
              "      <td>8.0</td>\n",
              "      <td>CADIL</td>\n",
              "      <td>HUMAN</td>\n",
              "      <td>Not Applicable</td>\n",
              "      <td>HUMAN</td>\n",
              "      <td>Not Applicable</td>\n",
              "      <td>Not Entered</td>\n",
              "    </tr>\n",
              "    <tr>\n",
              "      <th>5</th>\n",
              "      <td>2018</td>\n",
              "      <td>4 DOOR SEDAN</td>\n",
              "      <td>PASSENGER OR SUBURBAN</td>\n",
              "      <td>Parked</td>\n",
              "      <td>Not Entered</td>\n",
              "      <td>West</td>\n",
              "      <td>Gas</td>\n",
              "      <td>2008.0</td>\n",
              "      <td>NY</td>\n",
              "      <td>0.0</td>\n",
              "      <td>6.0</td>\n",
              "      <td>PONTI</td>\n",
              "      <td>HUMAN</td>\n",
              "      <td>Not Applicable</td>\n",
              "      <td>HUMAN</td>\n",
              "      <td>Not Applicable</td>\n",
              "      <td>Not Applicable</td>\n",
              "    </tr>\n",
              "    <tr>\n",
              "      <th>6</th>\n",
              "      <td>2018</td>\n",
              "      <td>2 DOOR SEDAN</td>\n",
              "      <td>PASSENGER OR SUBURBAN</td>\n",
              "      <td>Backing</td>\n",
              "      <td>Not Entered</td>\n",
              "      <td>West</td>\n",
              "      <td>Gas</td>\n",
              "      <td>1997.0</td>\n",
              "      <td>NY</td>\n",
              "      <td>1.0</td>\n",
              "      <td>6.0</td>\n",
              "      <td>BUICK</td>\n",
              "      <td>HUMAN</td>\n",
              "      <td>Not Applicable</td>\n",
              "      <td>HUMAN</td>\n",
              "      <td>Backing Unsafely</td>\n",
              "      <td>Not Applicable</td>\n",
              "    </tr>\n",
              "    <tr>\n",
              "      <th>7</th>\n",
              "      <td>2018</td>\n",
              "      <td>4 DOOR SEDAN</td>\n",
              "      <td>PASSENGER OR SUBURBAN</td>\n",
              "      <td>Backing</td>\n",
              "      <td>Not Entered</td>\n",
              "      <td>East</td>\n",
              "      <td>Gas</td>\n",
              "      <td>2007.0</td>\n",
              "      <td>NY</td>\n",
              "      <td>1.0</td>\n",
              "      <td>4.0</td>\n",
              "      <td>NISSA</td>\n",
              "      <td>HUMAN</td>\n",
              "      <td>Not Applicable</td>\n",
              "      <td>HUMAN</td>\n",
              "      <td>Backing Unsafely</td>\n",
              "      <td>Not Applicable</td>\n",
              "    </tr>\n",
              "    <tr>\n",
              "      <th>10</th>\n",
              "      <td>2018</td>\n",
              "      <td>4 DOOR SEDAN</td>\n",
              "      <td>PASSENGER OR SUBURBAN</td>\n",
              "      <td>Backing</td>\n",
              "      <td>Not Entered</td>\n",
              "      <td>East</td>\n",
              "      <td>Gas</td>\n",
              "      <td>2005.0</td>\n",
              "      <td>NY</td>\n",
              "      <td>1.0</td>\n",
              "      <td>4.0</td>\n",
              "      <td>TOYOT</td>\n",
              "      <td>HUMAN</td>\n",
              "      <td>Not Applicable</td>\n",
              "      <td>HUMAN</td>\n",
              "      <td>Backing Unsafely</td>\n",
              "      <td>Not Applicable</td>\n",
              "    </tr>\n",
              "    <tr>\n",
              "      <th>11</th>\n",
              "      <td>2018</td>\n",
              "      <td>2 DOOR SEDAN</td>\n",
              "      <td>PASSENGER OR SUBURBAN</td>\n",
              "      <td>Starting from Parking</td>\n",
              "      <td>Not Entered</td>\n",
              "      <td>West</td>\n",
              "      <td>Gas</td>\n",
              "      <td>2015.0</td>\n",
              "      <td>NY</td>\n",
              "      <td>1.0</td>\n",
              "      <td>4.0</td>\n",
              "      <td>VOLKS</td>\n",
              "      <td>HUMAN</td>\n",
              "      <td>Not Applicable</td>\n",
              "      <td>HUMAN</td>\n",
              "      <td>Not Applicable</td>\n",
              "      <td>Not Applicable</td>\n",
              "    </tr>\n",
              "    <tr>\n",
              "      <th>13</th>\n",
              "      <td>2018</td>\n",
              "      <td>PICKUP TRUCK</td>\n",
              "      <td>PASSENGER OR SUBURBAN</td>\n",
              "      <td>Going Straight Ahead</td>\n",
              "      <td>Not Entered</td>\n",
              "      <td>East</td>\n",
              "      <td>Gas</td>\n",
              "      <td>2013.0</td>\n",
              "      <td>NY</td>\n",
              "      <td>1.0</td>\n",
              "      <td>8.0</td>\n",
              "      <td>CHEVR</td>\n",
              "      <td>HUMAN</td>\n",
              "      <td>Not Applicable</td>\n",
              "      <td>ENVMT</td>\n",
              "      <td>Pavement Slippery</td>\n",
              "      <td>Not Applicable</td>\n",
              "    </tr>\n",
              "  </tbody>\n",
              "</table>\n",
              "</div>"
            ],
            "text/plain": [
              "    Year Vehicle Body Type  ... Contributing Factor 2 Description      Event Type\n",
              "0   2018         VAN TRUCK  ...                       Not Entered     Not Entered\n",
              "1   2018          SUBURBAN  ...                           Unknown     Not Entered\n",
              "3   2018      4 DOOR SEDAN  ...                            Other*     Not Entered\n",
              "4   2018          SUBURBAN  ...                    Not Applicable     Not Entered\n",
              "5   2018      4 DOOR SEDAN  ...                    Not Applicable  Not Applicable\n",
              "6   2018      2 DOOR SEDAN  ...                  Backing Unsafely  Not Applicable\n",
              "7   2018      4 DOOR SEDAN  ...                  Backing Unsafely  Not Applicable\n",
              "10  2018      4 DOOR SEDAN  ...                  Backing Unsafely  Not Applicable\n",
              "11  2018      2 DOOR SEDAN  ...                    Not Applicable  Not Applicable\n",
              "13  2018      PICKUP TRUCK  ...                 Pavement Slippery  Not Applicable\n",
              "\n",
              "[10 rows x 17 columns]"
            ]
          },
          "metadata": {
            "tags": []
          },
          "execution_count": 7
        }
      ]
    },
    {
      "cell_type": "code",
      "metadata": {
        "colab": {
          "base_uri": "https://localhost:8080/"
        },
        "id": "N9lt7VOgNbQ7",
        "outputId": "fa205e28-4d6c-4cec-9182-48f619a1f241"
      },
      "source": [
        "new_data[new_data.columns[4]].value_counts()\n"
      ],
      "execution_count": 8,
      "outputs": [
        {
          "output_type": "execute_result",
          "data": {
            "text/plain": [
              "Not Entered                              1252646\n",
              "4 axle single unit box truck                   1\n",
              "2 axle single unit platform truck              1\n",
              "Unknown                                        1\n",
              "3 axle box trailer and 3 axle tractor          1\n",
              "Name: Type / Axles of Truck or Bus, dtype: int64"
            ]
          },
          "metadata": {
            "tags": []
          },
          "execution_count": 8
        }
      ]
    },
    {
      "cell_type": "code",
      "metadata": {
        "id": "EOHpQCT3NdfI"
      },
      "source": [
        "new_data = new_data.drop(new_data.columns[4],axis=1)"
      ],
      "execution_count": 9,
      "outputs": []
    },
    {
      "cell_type": "code",
      "metadata": {
        "colab": {
          "base_uri": "https://localhost:8080/"
        },
        "id": "cfgoiw8zQdzy",
        "outputId": "41f7b577-5fc3-403b-9658-226c60c71fe5"
      },
      "source": [
        "new_data[new_data.columns[-1]].value_counts()"
      ],
      "execution_count": 10,
      "outputs": [
        {
          "output_type": "execute_result",
          "data": {
            "text/plain": [
              "Not Applicable                                                  729531\n",
              "Not Entered                                                     428834\n",
              "Other Motor Vehicle, Collision With                              54471\n",
              "Tree, Collision With Fixed Object                                 5349\n",
              "Earth Embankment/Rock Cut/Ditch, Collision With Fixed Object      4802\n",
              "Guide Rail - Not At End, Collision With Fixed Object              4117\n",
              "Light Support/Utility Pole, Collision With Fixed Object           3853\n",
              "Sign Post, Collision With Fixed Object                            2916\n",
              "Overturned, Non-Collision                                         2797\n",
              "Other Fixed Object*, Collision With Fixed Object                  2633\n",
              "Fence, Collision With Fixed Object                                1836\n",
              "Curbing, Collision With Fixed Object                              1721\n",
              "Building/Wall, Collision With Fixed Object                        1661\n",
              "Pedestrian, Collision With                                        1158\n",
              "Other Object (Not Fixed)*, Collision With                         1021\n",
              "Snow Embankment, Collision With Fixed Object                       991\n",
              "Barrier, Collision With Fixed Object                               906\n",
              "Median - Not At End, Collision With Fixed Object                   724\n",
              "Unknown                                                            634\n",
              "Fire Hydrant, Collision With Fixed Object                          413\n",
              "Other*, Non-Collision                                              395\n",
              "Guide Rail - End, Collision With Fixed Object                      387\n",
              "Culver/Head Wall, Collision With Fixed Object                      303\n",
              "Deer                                                               231\n",
              "Animal, Collision With                                             207\n",
              "Bicyclist, Collision With                                          164\n",
              "Bridge Structure, Collision With Fixed Object                      114\n",
              "Fire/Explosion, Non-Collision                                      114\n",
              "Submersion, Non-Collision                                          101\n",
              "Crash Cushion, Collision With Fixed Object                          82\n",
              "Other Pedestrian                                                    65\n",
              "Median - End, Collision With Fixed Object                           58\n",
              "Ran Off Roadway Only, Non-Collision                                 51\n",
              "Railroad Train, Collision With                                      10\n",
              "Name: Event Type, dtype: int64"
            ]
          },
          "metadata": {
            "tags": []
          },
          "execution_count": 10
        }
      ]
    },
    {
      "cell_type": "code",
      "metadata": {
        "id": "31T6tjE1Qk94"
      },
      "source": [
        "new_data = new_data.drop(new_data.columns[-1],axis=1)\n",
        "# majority of the crahs does not have the event type, so drop the column"
      ],
      "execution_count": 11,
      "outputs": []
    },
    {
      "cell_type": "code",
      "metadata": {
        "colab": {
          "base_uri": "https://localhost:8080/"
        },
        "id": "BRcP-G_JRk0I",
        "outputId": "48550fae-49d5-4cac-cdc0-9018eeec938c"
      },
      "source": [
        "new_data[new_data.columns[0]].value_counts()"
      ],
      "execution_count": 12,
      "outputs": [
        {
          "output_type": "execute_result",
          "data": {
            "text/plain": [
              "2019    633328\n",
              "2018    619322\n",
              "Name: Year, dtype: int64"
            ]
          },
          "metadata": {
            "tags": []
          },
          "execution_count": 12
        }
      ]
    },
    {
      "cell_type": "code",
      "metadata": {
        "colab": {
          "base_uri": "https://localhost:8080/"
        },
        "id": "SYnaBOp-SCbf",
        "outputId": "2d90583d-527f-4d6a-97ce-83f6a22babc8"
      },
      "source": [
        "new_data[new_data.columns[1]].value_counts()"
      ],
      "execution_count": 13,
      "outputs": [
        {
          "output_type": "execute_result",
          "data": {
            "text/plain": [
              "SUBURBAN                   528326\n",
              "4 DOOR SEDAN               504306\n",
              "PICKUP TRUCK                90166\n",
              "2 DOOR SEDAN                37679\n",
              "VAN TRUCK                   24934\n",
              "BUS (OMNIBUS)               11518\n",
              "TAXI                         9658\n",
              "DUMP                         8147\n",
              "MOTORCYCLE                   7565\n",
              "CONVERTIBLE                  7368\n",
              "TRACTOR                      5453\n",
              "DELIVERY TRUCK               4557\n",
              "UTILITY                      3292\n",
              "FLAT BED TRUCK               1607\n",
              "REFRIGERATOR TRUCK           1483\n",
              "TOW TRUCK                    1365\n",
              "AMBULANCE                     859\n",
              "TANK TRUCK                    810\n",
              "STAKE TRUCK                   577\n",
              "POLICE VEHICLE                484\n",
              "CEMENT MIXER                  406\n",
              "HOUSE ON WHEELS               303\n",
              "POWER SHOVEL                  256\n",
              "MOPED                         209\n",
              "ROAD SWEEPER                  198\n",
              "SEDAN                         181\n",
              "UNKNOWN VEHICLE               144\n",
              "FIRE VEHICLE                  106\n",
              "CUSTOM                        102\n",
              "TRUCK CRANE                    88\n",
              "UNKNOWN TRUCK                  84\n",
              "LIMOUSINE (OMNIBUS)            76\n",
              "ROAD BUILDING MACHINE          53\n",
              "SAND OR AGRICULTURAL           48\n",
              "TRACTOR CRANE                  45\n",
              "OTHER VEHICLE                  34\n",
              "ALL TERRAIN VEHICLE            33\n",
              "HEARSE (AMBULANCE)             31\n",
              "TRUCK W/ SMALL WHEELS          30\n",
              "DISABLED COMMERCIAL            24\n",
              "SNOW PLOW                      20\n",
              "LOW SPEED VEHICLE               5\n",
              "UNKNOWN CAR                     4\n",
              "CONSTRUCTION EQUIPMENT          3\n",
              "EARTH MOVER                     3\n",
              "WELL DRILLER                    2\n",
              "FARM TRACTOR                    2\n",
              "DLR/TRANSPORTER                 2\n",
              "MOBILE CAR CRUSHER              2\n",
              "FEED PROCESSING MACHINE         1\n",
              "HEARSE - INVALID                1\n",
              "Name: Vehicle Body Type, dtype: int64"
            ]
          },
          "metadata": {
            "tags": []
          },
          "execution_count": 13
        }
      ]
    },
    {
      "cell_type": "code",
      "metadata": {
        "colab": {
          "base_uri": "https://localhost:8080/"
        },
        "id": "6APaNY1MSF4t",
        "outputId": "f88511e7-6825-4e89-9416-093fba90d817"
      },
      "source": [
        "new_data = new_data.drop(new_data[(new_data['Vehicle Body Type'] == 'UNKNOWN CAR')\n",
        "|(new_data['Vehicle Body Type'] == 'UNKNOWN TRUCK')\n",
        "|(new_data['Vehicle Body Type'] == 'OTHER VEHICLE')].index)\n",
        "new_data[new_data.columns[1]].value_counts()"
      ],
      "execution_count": 14,
      "outputs": [
        {
          "output_type": "execute_result",
          "data": {
            "text/plain": [
              "SUBURBAN                   528326\n",
              "4 DOOR SEDAN               504306\n",
              "PICKUP TRUCK                90166\n",
              "2 DOOR SEDAN                37679\n",
              "VAN TRUCK                   24934\n",
              "BUS (OMNIBUS)               11518\n",
              "TAXI                         9658\n",
              "DUMP                         8147\n",
              "MOTORCYCLE                   7565\n",
              "CONVERTIBLE                  7368\n",
              "TRACTOR                      5453\n",
              "DELIVERY TRUCK               4557\n",
              "UTILITY                      3292\n",
              "FLAT BED TRUCK               1607\n",
              "REFRIGERATOR TRUCK           1483\n",
              "TOW TRUCK                    1365\n",
              "AMBULANCE                     859\n",
              "TANK TRUCK                    810\n",
              "STAKE TRUCK                   577\n",
              "POLICE VEHICLE                484\n",
              "CEMENT MIXER                  406\n",
              "HOUSE ON WHEELS               303\n",
              "POWER SHOVEL                  256\n",
              "MOPED                         209\n",
              "ROAD SWEEPER                  198\n",
              "SEDAN                         181\n",
              "UNKNOWN VEHICLE               144\n",
              "FIRE VEHICLE                  106\n",
              "CUSTOM                        102\n",
              "TRUCK CRANE                    88\n",
              "LIMOUSINE (OMNIBUS)            76\n",
              "ROAD BUILDING MACHINE          53\n",
              "SAND OR AGRICULTURAL           48\n",
              "TRACTOR CRANE                  45\n",
              "ALL TERRAIN VEHICLE            33\n",
              "HEARSE (AMBULANCE)             31\n",
              "TRUCK W/ SMALL WHEELS          30\n",
              "DISABLED COMMERCIAL            24\n",
              "SNOW PLOW                      20\n",
              "LOW SPEED VEHICLE               5\n",
              "EARTH MOVER                     3\n",
              "CONSTRUCTION EQUIPMENT          3\n",
              "WELL DRILLER                    2\n",
              "MOBILE CAR CRUSHER              2\n",
              "FARM TRACTOR                    2\n",
              "DLR/TRANSPORTER                 2\n",
              "HEARSE - INVALID                1\n",
              "FEED PROCESSING MACHINE         1\n",
              "Name: Vehicle Body Type, dtype: int64"
            ]
          },
          "metadata": {
            "tags": []
          },
          "execution_count": 14
        }
      ]
    },
    {
      "cell_type": "code",
      "metadata": {
        "colab": {
          "base_uri": "https://localhost:8080/"
        },
        "id": "zcD5H_smTbGq",
        "outputId": "34c5a083-e47a-44de-b5e0-5d592086995c"
      },
      "source": [
        "new_data[new_data.columns[2]].value_counts()"
      ],
      "execution_count": 15,
      "outputs": [
        {
          "output_type": "execute_result",
          "data": {
            "text/plain": [
              "PASSENGER OR SUBURBAN    1042705\n",
              "OMNIBUS - TAXI             67053\n",
              "AGRICULTURAL TRUCK         39954\n",
              "COMMERCIAL                 22949\n",
              "SPECIAL PASSENGER          18913\n",
              "                          ...   \n",
              "U.S. CONGRESS                  1\n",
              "COUNTY CLERK                   1\n",
              "HEARSE COACH                   1\n",
              "VAN POOL                       1\n",
              "TRANSPORTER                    1\n",
              "Name: Registration Class, Length: 64, dtype: int64"
            ]
          },
          "metadata": {
            "tags": []
          },
          "execution_count": 15
        }
      ]
    },
    {
      "cell_type": "code",
      "metadata": {
        "colab": {
          "base_uri": "https://localhost:8080/"
        },
        "id": "06i4Cyu-bsry",
        "outputId": "f52ab051-625d-4893-a0e6-8116120cc29c"
      },
      "source": [
        "new_data[new_data.columns[3]].value_counts()"
      ],
      "execution_count": 16,
      "outputs": [
        {
          "output_type": "execute_result",
          "data": {
            "text/plain": [
              "Going Straight Ahead          627403\n",
              "Parked                        119961\n",
              "Stopped in Traffic            103071\n",
              "Making Left Turn               95914\n",
              "Slowing or Stopping            89738\n",
              "Making Right Turn              48425\n",
              "Backing                        42870\n",
              "Changing Lanes                 33413\n",
              "Unknown                        17012\n",
              "Starting in Traffic            16979\n",
              "Merging                        12305\n",
              "Starting from Parking          11430\n",
              "Other                           8020\n",
              "Overtaking/Passing              7535\n",
              "Entering Parked Position        7317\n",
              "Making U Turn                   6810\n",
              "Avoiding Object in Roadway      3134\n",
              "Not Applicable                   429\n",
              "Making Right Turn on Red         403\n",
              "Police Pursuit                   213\n",
              "Making Left Turn on Red          146\n",
              "Name: Action Prior to Accident, dtype: int64"
            ]
          },
          "metadata": {
            "tags": []
          },
          "execution_count": 16
        }
      ]
    },
    {
      "cell_type": "code",
      "metadata": {
        "colab": {
          "base_uri": "https://localhost:8080/"
        },
        "id": "I9otGt1Ob4iZ",
        "outputId": "dc9a8c70-0078-4a54-e6ae-44f6464488a6"
      },
      "source": [
        "new_data = new_data.drop(new_data[(new_data['Action Prior to Accident'] == 'Unknown')\n",
        "|(new_data['Action Prior to Accident'] == 'Other')\n",
        "|(new_data['Action Prior to Accident'] == 'Not Applicable')].index)\n",
        "new_data[new_data.columns[3]].value_counts()"
      ],
      "execution_count": 17,
      "outputs": [
        {
          "output_type": "execute_result",
          "data": {
            "text/plain": [
              "Going Straight Ahead          627403\n",
              "Parked                        119961\n",
              "Stopped in Traffic            103071\n",
              "Making Left Turn               95914\n",
              "Slowing or Stopping            89738\n",
              "Making Right Turn              48425\n",
              "Backing                        42870\n",
              "Changing Lanes                 33413\n",
              "Starting in Traffic            16979\n",
              "Merging                        12305\n",
              "Starting from Parking          11430\n",
              "Overtaking/Passing              7535\n",
              "Entering Parked Position        7317\n",
              "Making U Turn                   6810\n",
              "Avoiding Object in Roadway      3134\n",
              "Making Right Turn on Red         403\n",
              "Police Pursuit                   213\n",
              "Making Left Turn on Red          146\n",
              "Name: Action Prior to Accident, dtype: int64"
            ]
          },
          "metadata": {
            "tags": []
          },
          "execution_count": 17
        }
      ]
    },
    {
      "cell_type": "code",
      "metadata": {
        "colab": {
          "base_uri": "https://localhost:8080/"
        },
        "id": "qTkqHSo3cahL",
        "outputId": "a24277bf-9906-41e9-c077-2505549409f5"
      },
      "source": [
        "new_data[new_data.columns[5]].value_counts()"
      ],
      "execution_count": 18,
      "outputs": [
        {
          "output_type": "execute_result",
          "data": {
            "text/plain": [
              "Gas                       1172972\n",
              "Diesel                      49681\n",
              "Electric                     2022\n",
              "Compressed Natural Gas       1130\n",
              "None                          808\n",
              "Flex                          311\n",
              "Propane                        75\n",
              "Other                          63\n",
              "Not Entered                     5\n",
              "Name: Fuel Type, dtype: int64"
            ]
          },
          "metadata": {
            "tags": []
          },
          "execution_count": 18
        }
      ]
    },
    {
      "cell_type": "code",
      "metadata": {
        "colab": {
          "base_uri": "https://localhost:8080/"
        },
        "id": "k9bgAEmWc3bM",
        "outputId": "e1481829-7ddc-46b8-f74d-431d961f5dad"
      },
      "source": [
        "new_data = new_data.drop(new_data[(new_data['Fuel Type'] == 'Not Entered')\n",
        "|(new_data['Fuel Type'] == 'Not Applicable')\n",
        "|(new_data['Fuel Type'] == 'Other')].index)\n",
        "new_data[new_data.columns[5]].value_counts()"
      ],
      "execution_count": 19,
      "outputs": [
        {
          "output_type": "execute_result",
          "data": {
            "text/plain": [
              "Gas                       1172972\n",
              "Diesel                      49681\n",
              "Electric                     2022\n",
              "Compressed Natural Gas       1130\n",
              "None                          808\n",
              "Flex                          311\n",
              "Propane                        75\n",
              "Name: Fuel Type, dtype: int64"
            ]
          },
          "metadata": {
            "tags": []
          },
          "execution_count": 19
        }
      ]
    },
    {
      "cell_type": "code",
      "metadata": {
        "colab": {
          "base_uri": "https://localhost:8080/"
        },
        "id": "qQ7X8Y7qdLuU",
        "outputId": "39988e05-45a5-4aef-d871-3c2fdb693856"
      },
      "source": [
        "new_data[new_data.columns[4]].value_counts()"
      ],
      "execution_count": 20,
      "outputs": [
        {
          "output_type": "execute_result",
          "data": {
            "text/plain": [
              "East              279400\n",
              "West              276183\n",
              "North             269848\n",
              "South             268405\n",
              "Unknown            30558\n",
              "Northeast          26837\n",
              "Northwest          25256\n",
              "Southwest          25220\n",
              "Southeast          25187\n",
              "Not Applicable       105\n",
              "Name: Direction of Travel, dtype: int64"
            ]
          },
          "metadata": {
            "tags": []
          },
          "execution_count": 20
        }
      ]
    },
    {
      "cell_type": "code",
      "metadata": {
        "colab": {
          "base_uri": "https://localhost:8080/"
        },
        "id": "lXqrypmdeAWr",
        "outputId": "8365b145-38a0-43dd-8404-569b9f1c2835"
      },
      "source": [
        "new_data = new_data.drop(new_data[(new_data['Direction of Travel'] == 'Not Applicable')\n",
        "|(new_data['Direction of Travel'] == 'Unknown')].index)\n",
        "new_data[new_data.columns[4]].value_counts()"
      ],
      "execution_count": 21,
      "outputs": [
        {
          "output_type": "execute_result",
          "data": {
            "text/plain": [
              "East         279400\n",
              "West         276183\n",
              "North        269848\n",
              "South        268405\n",
              "Northeast     26837\n",
              "Northwest     25256\n",
              "Southwest     25220\n",
              "Southeast     25187\n",
              "Name: Direction of Travel, dtype: int64"
            ]
          },
          "metadata": {
            "tags": []
          },
          "execution_count": 21
        }
      ]
    },
    {
      "cell_type": "code",
      "metadata": {
        "colab": {
          "base_uri": "https://localhost:8080/"
        },
        "id": "trVCAXY8eLSC",
        "outputId": "5e86b0b8-f82e-450c-eb17-308adef79673"
      },
      "source": [
        "new_data[new_data.columns[6]].value_counts()"
      ],
      "execution_count": 22,
      "outputs": [
        {
          "output_type": "execute_result",
          "data": {
            "text/plain": [
              "2017.0    121240\n",
              "2016.0    107501\n",
              "2015.0     98349\n",
              "2018.0     91396\n",
              "2014.0     80057\n",
              "           ...  \n",
              "1933.0         1\n",
              "1937.0         1\n",
              "1939.0         1\n",
              "1942.0         1\n",
              "2021.0         1\n",
              "Name: Vehicle Year, Length: 94, dtype: int64"
            ]
          },
          "metadata": {
            "tags": []
          },
          "execution_count": 22
        }
      ]
    },
    {
      "cell_type": "code",
      "metadata": {
        "colab": {
          "base_uri": "https://localhost:8080/"
        },
        "id": "yuCJ0ZCueZgt",
        "outputId": "11198797-95c2-4d02-cf59-0b303075d484"
      },
      "source": [
        "new_data[new_data.columns[7]].value_counts()"
      ],
      "execution_count": 23,
      "outputs": [
        {
          "output_type": "execute_result",
          "data": {
            "text/plain": [
              "NY    1196313\n",
              "PA          5\n",
              "OK          4\n",
              "NJ          3\n",
              "MD          2\n",
              "WI          1\n",
              "MI          1\n",
              "NH          1\n",
              "NC          1\n",
              "OH          1\n",
              "TX          1\n",
              "IL          1\n",
              "NM          1\n",
              "DC          1\n",
              "Name: State of Registration, dtype: int64"
            ]
          },
          "metadata": {
            "tags": []
          },
          "execution_count": 23
        }
      ]
    },
    {
      "cell_type": "code",
      "metadata": {
        "colab": {
          "base_uri": "https://localhost:8080/"
        },
        "id": "DUJKilOPecMH",
        "outputId": "3024cf04-0cc0-4a33-95be-0d06427ab7e5"
      },
      "source": [
        "new_data[new_data.columns[8]].value_counts()"
      ],
      "execution_count": 24,
      "outputs": [
        {
          "output_type": "execute_result",
          "data": {
            "text/plain": [
              "1.0     851128\n",
              "2.0     175655\n",
              "0.0      89906\n",
              "3.0      48493\n",
              "4.0      19336\n",
              "         ...  \n",
              "53.0         1\n",
              "54.0         1\n",
              "59.0         1\n",
              "75.0         1\n",
              "69.0         1\n",
              "Name: Number of Occupants, Length: 64, dtype: int64"
            ]
          },
          "metadata": {
            "tags": []
          },
          "execution_count": 24
        }
      ]
    },
    {
      "cell_type": "code",
      "metadata": {
        "colab": {
          "base_uri": "https://localhost:8080/"
        },
        "id": "6qxSFwmPeezK",
        "outputId": "e057a299-f651-4d1a-e3f6-0980afff92b5"
      },
      "source": [
        "new_data[new_data.columns[9]].value_counts()"
      ],
      "execution_count": 25,
      "outputs": [
        {
          "output_type": "execute_result",
          "data": {
            "text/plain": [
              "4.0     610889\n",
              "6.0     422810\n",
              "8.0     140441\n",
              "5.0       9371\n",
              "2.0       4276\n",
              "10.0      3533\n",
              "0.0       2099\n",
              "3.0       1782\n",
              "1.0        957\n",
              "12.0       164\n",
              "7.0          8\n",
              "9.0          4\n",
              "16.0         1\n",
              "14.0         1\n",
              "Name: Engine Cylinders, dtype: int64"
            ]
          },
          "metadata": {
            "tags": []
          },
          "execution_count": 25
        }
      ]
    },
    {
      "cell_type": "code",
      "metadata": {
        "colab": {
          "base_uri": "https://localhost:8080/"
        },
        "id": "9Lln5mBlegTZ",
        "outputId": "96a50bad-bcbf-407a-b08c-f9659e9fc1ce"
      },
      "source": [
        "new_data[new_data.columns[10]].value_counts()"
      ],
      "execution_count": 26,
      "outputs": [
        {
          "output_type": "execute_result",
          "data": {
            "text/plain": [
              "TOYOT    168869\n",
              "HONDA    140376\n",
              "FORD     118654\n",
              "CHEVR    116807\n",
              "NISSA    105396\n",
              "          ...  \n",
              "HIO           1\n",
              "RUGBY         1\n",
              "FR/LT         1\n",
              "MCCOY         1\n",
              "GLA           1\n",
              "Name: Vehicle Make, Length: 1132, dtype: int64"
            ]
          },
          "metadata": {
            "tags": []
          },
          "execution_count": 26
        }
      ]
    },
    {
      "cell_type": "code",
      "metadata": {
        "colab": {
          "base_uri": "https://localhost:8080/"
        },
        "id": "3YdTAzuoeiSx",
        "outputId": "2f1fb855-7a16-4f92-afaa-d6211468b62d"
      },
      "source": [
        "new_data[new_data.columns[6]].value_counts()"
      ],
      "execution_count": 27,
      "outputs": [
        {
          "output_type": "execute_result",
          "data": {
            "text/plain": [
              "2017.0    121240\n",
              "2016.0    107501\n",
              "2015.0     98349\n",
              "2018.0     91396\n",
              "2014.0     80057\n",
              "           ...  \n",
              "1933.0         1\n",
              "1937.0         1\n",
              "1939.0         1\n",
              "1942.0         1\n",
              "2021.0         1\n",
              "Name: Vehicle Year, Length: 94, dtype: int64"
            ]
          },
          "metadata": {
            "tags": []
          },
          "execution_count": 27
        }
      ]
    },
    {
      "cell_type": "code",
      "metadata": {
        "colab": {
          "base_uri": "https://localhost:8080/",
          "height": 282
        },
        "id": "57N2cwwaejvQ",
        "outputId": "ae39684f-1dee-4d8b-9c5e-1ac8660537d2"
      },
      "source": [
        "new_data.iloc[0:-1,9].plot.hist(bins=7)"
      ],
      "execution_count": 28,
      "outputs": [
        {
          "output_type": "execute_result",
          "data": {
            "text/plain": [
              "<matplotlib.axes._subplots.AxesSubplot at 0x7f1ed6bcddd0>"
            ]
          },
          "metadata": {
            "tags": []
          },
          "execution_count": 28
        },
        {
          "output_type": "display_data",
          "data": {
            "image/png": "[encoded data removed]",
            "text/plain": [
              "<Figure size 432x288 with 1 Axes>"
            ]
          },
          "metadata": {
            "tags": [],
            "needs_background": "light"
          }
        }
      ]
    },
    {
      "cell_type": "code",
      "metadata": {
        "colab": {
          "base_uri": "https://localhost:8080/",
          "height": 282
        },
        "id": "Dbd-OwVGqqZP",
        "outputId": "37ea2292-4de0-4527-c6ab-2df16e94d409"
      },
      "source": [
        "new_data.iloc[0:-1,9].plot.box()"
      ],
      "execution_count": 32,
      "outputs": [
        {
          "output_type": "execute_result",
          "data": {
            "text/plain": [
              "<matplotlib.axes._subplots.AxesSubplot at 0x7f1ed7c876d0>"
            ]
          },
          "metadata": {
            "tags": []
          },
          "execution_count": 32
        },
        {
          "output_type": "display_data",
          "data": {
            "image/png": "[encoded data removed]",
            "text/plain": [
              "<Figure size 432x288 with 1 Axes>"
            ]
          },
          "metadata": {
            "tags": [],
            "needs_background": "light"
          }
        }
      ]
    },
    {
      "cell_type": "code",
      "metadata": {
        "id": "PSXCo83Wemc_"
      },
      "source": [
        "new_data.to_csv('/content/drive/MyDrive/Colab Notebooks/Crash_data.csv')"
      ],
      "execution_count": 29,
      "outputs": []
    },
    {
      "cell_type": "code",
      "metadata": {
        "id": "lVuBk36GmJ-j"
      },
      "source": [
        ""
      ],
      "execution_count": 29,
      "outputs": []
    },
    {
      "cell_type": "markdown",
      "metadata": {
        "id": "Bu0WPsJ4m1Va"
      },
      "source": [
        "# New Section"
      ]
    }
  ]
}